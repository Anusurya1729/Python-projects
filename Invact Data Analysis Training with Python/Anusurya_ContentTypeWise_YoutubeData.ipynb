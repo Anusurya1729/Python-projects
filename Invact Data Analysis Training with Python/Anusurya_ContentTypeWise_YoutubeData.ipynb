{
  "nbformat": 4,
  "nbformat_minor": 0,
  "metadata": {
    "colab": {
      "provenance": []
    },
    "kernelspec": {
      "name": "python3",
      "display_name": "Python 3"
    },
    "language_info": {
      "name": "python"
    }
  },
  "cells": [
    {
      "cell_type": "markdown",
      "source": [
        "# ContentTypeWise-YoutubeData_3.1"
      ],
      "metadata": {
        "id": "QCRCrkQyOZYR"
      }
    },
    {
      "cell_type": "markdown",
      "source": [
        "***`Task 1: Import the pandas library `***"
      ],
      "metadata": {
        "id": "kzID4uK5Ogy4"
      }
    },
    {
      "cell_type": "code",
      "execution_count": 1,
      "metadata": {
        "id": "NbyevXg5OUU6"
      },
      "outputs": [],
      "source": [
        "import pandas as pd"
      ]
    },
    {
      "cell_type": "markdown",
      "source": [
        "***`Task 2: Create a dataframe named “cwyd” from a given URL.`***\n",
        "\n",
        "https://raw.githubusercontent.com/Invact-Abhay/DOE/main/doe2assignmentfinal.csv"
      ],
      "metadata": {
        "id": "T5RxQG19Os5M"
      }
    },
    {
      "cell_type": "code",
      "source": [
        "cwyd=pd.read_csv(\"https://raw.githubusercontent.com/Invact-Abhay/DOE/main/doe2assignmentfinal.csv\")\n",
        "cwyd"
      ],
      "metadata": {
        "colab": {
          "base_uri": "https://localhost:8080/",
          "height": 770
        },
        "id": "_vwBFpdVOzDl",
        "outputId": "882eb806-ae7c-491c-e89d-3641682b89e4"
      },
      "execution_count": 2,
      "outputs": [
        {
          "output_type": "execute_result",
          "data": {
            "text/plain": [
              "                  Videotitle  ContentType   Videotype  Commentsadded  Shares  \\\n",
              "0             Best of Pranks       Pranks  Long Video            309     815   \n",
              "1              Classic Roast        Roast  Long Video            361     802   \n",
              "2           Classic Stand-Up     Stand-Up  Long Video            312     799   \n",
              "3            Comedy Bloopers     Bloopers  Long Video            288     711   \n",
              "4               Comedy Clips     Stand-Up      Shorts            396     935   \n",
              "5   Comedy Clips Compilation  Compilation      Shorts            371     893   \n",
              "6                Comedy Club     Stand-Up  Long Video            325     789   \n",
              "7            Comedy Marathon     Stand-Up  Long Video            354     820   \n",
              "8              Comedy Review       Review      Shorts            274     696   \n",
              "9               Comedy Roast        Roast  Long Video            361     802   \n",
              "10       Comedy Roast Battle        Roast  Long Video            356     817   \n",
              "11           Comedy Showcase     Stand-Up  Long Video            368     917   \n",
              "12            Comedy Special     Stand-Up  Long Video            354     820   \n",
              "13        Funny Memes Review       Review  Long Video            288     685   \n",
              "14             Funny Moments  Compilation      Shorts            299     722   \n",
              "15      Hidden Camera Pranks       Pranks  Long Video            284     704   \n",
              "16           Hilarious Skits        Skits  Long Video            421     962   \n",
              "17         Laughing Marathon     Stand-Up  Long Video            394     871   \n",
              "18       Parody Music Videos       Parody  Long Video            331     758   \n",
              "19                Prank Wars       Pranks  Long Video            289     774   \n",
              "20     Stand-Up Comedy Clips     Stand-Up      Shorts            347     792   \n",
              "21     Stand-Up Comedy Night     Stand-Up  Long Video            289     774   \n",
              "22          Stand-Up Special     Stand-Up  Long Video            375     829   \n",
              "\n",
              "    Likes  Subscribers  Impressions  Clicks  Viewers  \n",
              "0    2147          542         3872     711   170245  \n",
              "1    2301          486         3710     688   144329  \n",
              "2    2245          532         4023     719   167743  \n",
              "3    2010          431         3257     609    92976  \n",
              "4    2679          655         4612     848    58256  \n",
              "5    2401          601         4189     762    96482  \n",
              "6    2123          543         3946     711   167539  \n",
              "7    2346          514         4129     754   102556  \n",
              "8    1875          461         3510     643    63822  \n",
              "9    2301          523         3710     688    19756  \n",
              "10   2290          511         3967     719   155432  \n",
              "11   2446          612         4295     792   106932  \n",
              "12   2346          514         4129     754   168771  \n",
              "13   1921          413         3182     599   124421  \n",
              "14   2039          438         3368     641   135473  \n",
              "15   1972          421         3210     602   127900  \n",
              "16   2765          638         4911     912   162156  \n",
              "17   2485          509         3932     703   191845  \n",
              "18   2103          482         3628     671   340091  \n",
              "19   2054          496         3745     698   160372  \n",
              "20   2245          536         3897     725   214789  \n",
              "21   2054          496         3745     698   135672  \n",
              "22   2337          496         3774     710   214685  "
            ],
            "text/html": [
              "\n",
              "  <div id=\"df-2a0b3a0c-b649-4c96-b335-dceb6afb16db\" class=\"colab-df-container\">\n",
              "    <div>\n",
              "<style scoped>\n",
              "    .dataframe tbody tr th:only-of-type {\n",
              "        vertical-align: middle;\n",
              "    }\n",
              "\n",
              "    .dataframe tbody tr th {\n",
              "        vertical-align: top;\n",
              "    }\n",
              "\n",
              "    .dataframe thead th {\n",
              "        text-align: right;\n",
              "    }\n",
              "</style>\n",
              "<table border=\"1\" class=\"dataframe\">\n",
              "  <thead>\n",
              "    <tr style=\"text-align: right;\">\n",
              "      <th></th>\n",
              "      <th>Videotitle</th>\n",
              "      <th>ContentType</th>\n",
              "      <th>Videotype</th>\n",
              "      <th>Commentsadded</th>\n",
              "      <th>Shares</th>\n",
              "      <th>Likes</th>\n",
              "      <th>Subscribers</th>\n",
              "      <th>Impressions</th>\n",
              "      <th>Clicks</th>\n",
              "      <th>Viewers</th>\n",
              "    </tr>\n",
              "  </thead>\n",
              "  <tbody>\n",
              "    <tr>\n",
              "      <th>0</th>\n",
              "      <td>Best of Pranks</td>\n",
              "      <td>Pranks</td>\n",
              "      <td>Long Video</td>\n",
              "      <td>309</td>\n",
              "      <td>815</td>\n",
              "      <td>2147</td>\n",
              "      <td>542</td>\n",
              "      <td>3872</td>\n",
              "      <td>711</td>\n",
              "      <td>170245</td>\n",
              "    </tr>\n",
              "    <tr>\n",
              "      <th>1</th>\n",
              "      <td>Classic Roast</td>\n",
              "      <td>Roast</td>\n",
              "      <td>Long Video</td>\n",
              "      <td>361</td>\n",
              "      <td>802</td>\n",
              "      <td>2301</td>\n",
              "      <td>486</td>\n",
              "      <td>3710</td>\n",
              "      <td>688</td>\n",
              "      <td>144329</td>\n",
              "    </tr>\n",
              "    <tr>\n",
              "      <th>2</th>\n",
              "      <td>Classic Stand-Up</td>\n",
              "      <td>Stand-Up</td>\n",
              "      <td>Long Video</td>\n",
              "      <td>312</td>\n",
              "      <td>799</td>\n",
              "      <td>2245</td>\n",
              "      <td>532</td>\n",
              "      <td>4023</td>\n",
              "      <td>719</td>\n",
              "      <td>167743</td>\n",
              "    </tr>\n",
              "    <tr>\n",
              "      <th>3</th>\n",
              "      <td>Comedy Bloopers</td>\n",
              "      <td>Bloopers</td>\n",
              "      <td>Long Video</td>\n",
              "      <td>288</td>\n",
              "      <td>711</td>\n",
              "      <td>2010</td>\n",
              "      <td>431</td>\n",
              "      <td>3257</td>\n",
              "      <td>609</td>\n",
              "      <td>92976</td>\n",
              "    </tr>\n",
              "    <tr>\n",
              "      <th>4</th>\n",
              "      <td>Comedy Clips</td>\n",
              "      <td>Stand-Up</td>\n",
              "      <td>Shorts</td>\n",
              "      <td>396</td>\n",
              "      <td>935</td>\n",
              "      <td>2679</td>\n",
              "      <td>655</td>\n",
              "      <td>4612</td>\n",
              "      <td>848</td>\n",
              "      <td>58256</td>\n",
              "    </tr>\n",
              "    <tr>\n",
              "      <th>5</th>\n",
              "      <td>Comedy Clips Compilation</td>\n",
              "      <td>Compilation</td>\n",
              "      <td>Shorts</td>\n",
              "      <td>371</td>\n",
              "      <td>893</td>\n",
              "      <td>2401</td>\n",
              "      <td>601</td>\n",
              "      <td>4189</td>\n",
              "      <td>762</td>\n",
              "      <td>96482</td>\n",
              "    </tr>\n",
              "    <tr>\n",
              "      <th>6</th>\n",
              "      <td>Comedy Club</td>\n",
              "      <td>Stand-Up</td>\n",
              "      <td>Long Video</td>\n",
              "      <td>325</td>\n",
              "      <td>789</td>\n",
              "      <td>2123</td>\n",
              "      <td>543</td>\n",
              "      <td>3946</td>\n",
              "      <td>711</td>\n",
              "      <td>167539</td>\n",
              "    </tr>\n",
              "    <tr>\n",
              "      <th>7</th>\n",
              "      <td>Comedy Marathon</td>\n",
              "      <td>Stand-Up</td>\n",
              "      <td>Long Video</td>\n",
              "      <td>354</td>\n",
              "      <td>820</td>\n",
              "      <td>2346</td>\n",
              "      <td>514</td>\n",
              "      <td>4129</td>\n",
              "      <td>754</td>\n",
              "      <td>102556</td>\n",
              "    </tr>\n",
              "    <tr>\n",
              "      <th>8</th>\n",
              "      <td>Comedy Review</td>\n",
              "      <td>Review</td>\n",
              "      <td>Shorts</td>\n",
              "      <td>274</td>\n",
              "      <td>696</td>\n",
              "      <td>1875</td>\n",
              "      <td>461</td>\n",
              "      <td>3510</td>\n",
              "      <td>643</td>\n",
              "      <td>63822</td>\n",
              "    </tr>\n",
              "    <tr>\n",
              "      <th>9</th>\n",
              "      <td>Comedy Roast</td>\n",
              "      <td>Roast</td>\n",
              "      <td>Long Video</td>\n",
              "      <td>361</td>\n",
              "      <td>802</td>\n",
              "      <td>2301</td>\n",
              "      <td>523</td>\n",
              "      <td>3710</td>\n",
              "      <td>688</td>\n",
              "      <td>19756</td>\n",
              "    </tr>\n",
              "    <tr>\n",
              "      <th>10</th>\n",
              "      <td>Comedy Roast Battle</td>\n",
              "      <td>Roast</td>\n",
              "      <td>Long Video</td>\n",
              "      <td>356</td>\n",
              "      <td>817</td>\n",
              "      <td>2290</td>\n",
              "      <td>511</td>\n",
              "      <td>3967</td>\n",
              "      <td>719</td>\n",
              "      <td>155432</td>\n",
              "    </tr>\n",
              "    <tr>\n",
              "      <th>11</th>\n",
              "      <td>Comedy Showcase</td>\n",
              "      <td>Stand-Up</td>\n",
              "      <td>Long Video</td>\n",
              "      <td>368</td>\n",
              "      <td>917</td>\n",
              "      <td>2446</td>\n",
              "      <td>612</td>\n",
              "      <td>4295</td>\n",
              "      <td>792</td>\n",
              "      <td>106932</td>\n",
              "    </tr>\n",
              "    <tr>\n",
              "      <th>12</th>\n",
              "      <td>Comedy Special</td>\n",
              "      <td>Stand-Up</td>\n",
              "      <td>Long Video</td>\n",
              "      <td>354</td>\n",
              "      <td>820</td>\n",
              "      <td>2346</td>\n",
              "      <td>514</td>\n",
              "      <td>4129</td>\n",
              "      <td>754</td>\n",
              "      <td>168771</td>\n",
              "    </tr>\n",
              "    <tr>\n",
              "      <th>13</th>\n",
              "      <td>Funny Memes Review</td>\n",
              "      <td>Review</td>\n",
              "      <td>Long Video</td>\n",
              "      <td>288</td>\n",
              "      <td>685</td>\n",
              "      <td>1921</td>\n",
              "      <td>413</td>\n",
              "      <td>3182</td>\n",
              "      <td>599</td>\n",
              "      <td>124421</td>\n",
              "    </tr>\n",
              "    <tr>\n",
              "      <th>14</th>\n",
              "      <td>Funny Moments</td>\n",
              "      <td>Compilation</td>\n",
              "      <td>Shorts</td>\n",
              "      <td>299</td>\n",
              "      <td>722</td>\n",
              "      <td>2039</td>\n",
              "      <td>438</td>\n",
              "      <td>3368</td>\n",
              "      <td>641</td>\n",
              "      <td>135473</td>\n",
              "    </tr>\n",
              "    <tr>\n",
              "      <th>15</th>\n",
              "      <td>Hidden Camera Pranks</td>\n",
              "      <td>Pranks</td>\n",
              "      <td>Long Video</td>\n",
              "      <td>284</td>\n",
              "      <td>704</td>\n",
              "      <td>1972</td>\n",
              "      <td>421</td>\n",
              "      <td>3210</td>\n",
              "      <td>602</td>\n",
              "      <td>127900</td>\n",
              "    </tr>\n",
              "    <tr>\n",
              "      <th>16</th>\n",
              "      <td>Hilarious Skits</td>\n",
              "      <td>Skits</td>\n",
              "      <td>Long Video</td>\n",
              "      <td>421</td>\n",
              "      <td>962</td>\n",
              "      <td>2765</td>\n",
              "      <td>638</td>\n",
              "      <td>4911</td>\n",
              "      <td>912</td>\n",
              "      <td>162156</td>\n",
              "    </tr>\n",
              "    <tr>\n",
              "      <th>17</th>\n",
              "      <td>Laughing Marathon</td>\n",
              "      <td>Stand-Up</td>\n",
              "      <td>Long Video</td>\n",
              "      <td>394</td>\n",
              "      <td>871</td>\n",
              "      <td>2485</td>\n",
              "      <td>509</td>\n",
              "      <td>3932</td>\n",
              "      <td>703</td>\n",
              "      <td>191845</td>\n",
              "    </tr>\n",
              "    <tr>\n",
              "      <th>18</th>\n",
              "      <td>Parody Music Videos</td>\n",
              "      <td>Parody</td>\n",
              "      <td>Long Video</td>\n",
              "      <td>331</td>\n",
              "      <td>758</td>\n",
              "      <td>2103</td>\n",
              "      <td>482</td>\n",
              "      <td>3628</td>\n",
              "      <td>671</td>\n",
              "      <td>340091</td>\n",
              "    </tr>\n",
              "    <tr>\n",
              "      <th>19</th>\n",
              "      <td>Prank Wars</td>\n",
              "      <td>Pranks</td>\n",
              "      <td>Long Video</td>\n",
              "      <td>289</td>\n",
              "      <td>774</td>\n",
              "      <td>2054</td>\n",
              "      <td>496</td>\n",
              "      <td>3745</td>\n",
              "      <td>698</td>\n",
              "      <td>160372</td>\n",
              "    </tr>\n",
              "    <tr>\n",
              "      <th>20</th>\n",
              "      <td>Stand-Up Comedy Clips</td>\n",
              "      <td>Stand-Up</td>\n",
              "      <td>Shorts</td>\n",
              "      <td>347</td>\n",
              "      <td>792</td>\n",
              "      <td>2245</td>\n",
              "      <td>536</td>\n",
              "      <td>3897</td>\n",
              "      <td>725</td>\n",
              "      <td>214789</td>\n",
              "    </tr>\n",
              "    <tr>\n",
              "      <th>21</th>\n",
              "      <td>Stand-Up Comedy Night</td>\n",
              "      <td>Stand-Up</td>\n",
              "      <td>Long Video</td>\n",
              "      <td>289</td>\n",
              "      <td>774</td>\n",
              "      <td>2054</td>\n",
              "      <td>496</td>\n",
              "      <td>3745</td>\n",
              "      <td>698</td>\n",
              "      <td>135672</td>\n",
              "    </tr>\n",
              "    <tr>\n",
              "      <th>22</th>\n",
              "      <td>Stand-Up Special</td>\n",
              "      <td>Stand-Up</td>\n",
              "      <td>Long Video</td>\n",
              "      <td>375</td>\n",
              "      <td>829</td>\n",
              "      <td>2337</td>\n",
              "      <td>496</td>\n",
              "      <td>3774</td>\n",
              "      <td>710</td>\n",
              "      <td>214685</td>\n",
              "    </tr>\n",
              "  </tbody>\n",
              "</table>\n",
              "</div>\n",
              "    <div class=\"colab-df-buttons\">\n",
              "\n",
              "  <div class=\"colab-df-container\">\n",
              "    <button class=\"colab-df-convert\" onclick=\"convertToInteractive('df-2a0b3a0c-b649-4c96-b335-dceb6afb16db')\"\n",
              "            title=\"Convert this dataframe to an interactive table.\"\n",
              "            style=\"display:none;\">\n",
              "\n",
              "  <svg xmlns=\"http://www.w3.org/2000/svg\" height=\"24px\" viewBox=\"0 -960 960 960\">\n",
              "    <path d=\"M120-120v-720h720v720H120Zm60-500h600v-160H180v160Zm220 220h160v-160H400v160Zm0 220h160v-160H400v160ZM180-400h160v-160H180v160Zm440 0h160v-160H620v160ZM180-180h160v-160H180v160Zm440 0h160v-160H620v160Z\"/>\n",
              "  </svg>\n",
              "    </button>\n",
              "\n",
              "  <style>\n",
              "    .colab-df-container {\n",
              "      display:flex;\n",
              "      gap: 12px;\n",
              "    }\n",
              "\n",
              "    .colab-df-convert {\n",
              "      background-color: #E8F0FE;\n",
              "      border: none;\n",
              "      border-radius: 50%;\n",
              "      cursor: pointer;\n",
              "      display: none;\n",
              "      fill: #1967D2;\n",
              "      height: 32px;\n",
              "      padding: 0 0 0 0;\n",
              "      width: 32px;\n",
              "    }\n",
              "\n",
              "    .colab-df-convert:hover {\n",
              "      background-color: #E2EBFA;\n",
              "      box-shadow: 0px 1px 2px rgba(60, 64, 67, 0.3), 0px 1px 3px 1px rgba(60, 64, 67, 0.15);\n",
              "      fill: #174EA6;\n",
              "    }\n",
              "\n",
              "    .colab-df-buttons div {\n",
              "      margin-bottom: 4px;\n",
              "    }\n",
              "\n",
              "    [theme=dark] .colab-df-convert {\n",
              "      background-color: #3B4455;\n",
              "      fill: #D2E3FC;\n",
              "    }\n",
              "\n",
              "    [theme=dark] .colab-df-convert:hover {\n",
              "      background-color: #434B5C;\n",
              "      box-shadow: 0px 1px 3px 1px rgba(0, 0, 0, 0.15);\n",
              "      filter: drop-shadow(0px 1px 2px rgba(0, 0, 0, 0.3));\n",
              "      fill: #FFFFFF;\n",
              "    }\n",
              "  </style>\n",
              "\n",
              "    <script>\n",
              "      const buttonEl =\n",
              "        document.querySelector('#df-2a0b3a0c-b649-4c96-b335-dceb6afb16db button.colab-df-convert');\n",
              "      buttonEl.style.display =\n",
              "        google.colab.kernel.accessAllowed ? 'block' : 'none';\n",
              "\n",
              "      async function convertToInteractive(key) {\n",
              "        const element = document.querySelector('#df-2a0b3a0c-b649-4c96-b335-dceb6afb16db');\n",
              "        const dataTable =\n",
              "          await google.colab.kernel.invokeFunction('convertToInteractive',\n",
              "                                                    [key], {});\n",
              "        if (!dataTable) return;\n",
              "\n",
              "        const docLinkHtml = 'Like what you see? Visit the ' +\n",
              "          '<a target=\"_blank\" href=https://colab.research.google.com/notebooks/data_table.ipynb>data table notebook</a>'\n",
              "          + ' to learn more about interactive tables.';\n",
              "        element.innerHTML = '';\n",
              "        dataTable['output_type'] = 'display_data';\n",
              "        await google.colab.output.renderOutput(dataTable, element);\n",
              "        const docLink = document.createElement('div');\n",
              "        docLink.innerHTML = docLinkHtml;\n",
              "        element.appendChild(docLink);\n",
              "      }\n",
              "    </script>\n",
              "  </div>\n",
              "\n",
              "\n",
              "<div id=\"df-b7d9b7dd-f730-4568-b42a-2bf32a1eb83e\">\n",
              "  <button class=\"colab-df-quickchart\" onclick=\"quickchart('df-b7d9b7dd-f730-4568-b42a-2bf32a1eb83e')\"\n",
              "            title=\"Suggest charts\"\n",
              "            style=\"display:none;\">\n",
              "\n",
              "<svg xmlns=\"http://www.w3.org/2000/svg\" height=\"24px\"viewBox=\"0 0 24 24\"\n",
              "     width=\"24px\">\n",
              "    <g>\n",
              "        <path d=\"M19 3H5c-1.1 0-2 .9-2 2v14c0 1.1.9 2 2 2h14c1.1 0 2-.9 2-2V5c0-1.1-.9-2-2-2zM9 17H7v-7h2v7zm4 0h-2V7h2v10zm4 0h-2v-4h2v4z\"/>\n",
              "    </g>\n",
              "</svg>\n",
              "  </button>\n",
              "\n",
              "<style>\n",
              "  .colab-df-quickchart {\n",
              "      --bg-color: #E8F0FE;\n",
              "      --fill-color: #1967D2;\n",
              "      --hover-bg-color: #E2EBFA;\n",
              "      --hover-fill-color: #174EA6;\n",
              "      --disabled-fill-color: #AAA;\n",
              "      --disabled-bg-color: #DDD;\n",
              "  }\n",
              "\n",
              "  [theme=dark] .colab-df-quickchart {\n",
              "      --bg-color: #3B4455;\n",
              "      --fill-color: #D2E3FC;\n",
              "      --hover-bg-color: #434B5C;\n",
              "      --hover-fill-color: #FFFFFF;\n",
              "      --disabled-bg-color: #3B4455;\n",
              "      --disabled-fill-color: #666;\n",
              "  }\n",
              "\n",
              "  .colab-df-quickchart {\n",
              "    background-color: var(--bg-color);\n",
              "    border: none;\n",
              "    border-radius: 50%;\n",
              "    cursor: pointer;\n",
              "    display: none;\n",
              "    fill: var(--fill-color);\n",
              "    height: 32px;\n",
              "    padding: 0;\n",
              "    width: 32px;\n",
              "  }\n",
              "\n",
              "  .colab-df-quickchart:hover {\n",
              "    background-color: var(--hover-bg-color);\n",
              "    box-shadow: 0 1px 2px rgba(60, 64, 67, 0.3), 0 1px 3px 1px rgba(60, 64, 67, 0.15);\n",
              "    fill: var(--button-hover-fill-color);\n",
              "  }\n",
              "\n",
              "  .colab-df-quickchart-complete:disabled,\n",
              "  .colab-df-quickchart-complete:disabled:hover {\n",
              "    background-color: var(--disabled-bg-color);\n",
              "    fill: var(--disabled-fill-color);\n",
              "    box-shadow: none;\n",
              "  }\n",
              "\n",
              "  .colab-df-spinner {\n",
              "    border: 2px solid var(--fill-color);\n",
              "    border-color: transparent;\n",
              "    border-bottom-color: var(--fill-color);\n",
              "    animation:\n",
              "      spin 1s steps(1) infinite;\n",
              "  }\n",
              "\n",
              "  @keyframes spin {\n",
              "    0% {\n",
              "      border-color: transparent;\n",
              "      border-bottom-color: var(--fill-color);\n",
              "      border-left-color: var(--fill-color);\n",
              "    }\n",
              "    20% {\n",
              "      border-color: transparent;\n",
              "      border-left-color: var(--fill-color);\n",
              "      border-top-color: var(--fill-color);\n",
              "    }\n",
              "    30% {\n",
              "      border-color: transparent;\n",
              "      border-left-color: var(--fill-color);\n",
              "      border-top-color: var(--fill-color);\n",
              "      border-right-color: var(--fill-color);\n",
              "    }\n",
              "    40% {\n",
              "      border-color: transparent;\n",
              "      border-right-color: var(--fill-color);\n",
              "      border-top-color: var(--fill-color);\n",
              "    }\n",
              "    60% {\n",
              "      border-color: transparent;\n",
              "      border-right-color: var(--fill-color);\n",
              "    }\n",
              "    80% {\n",
              "      border-color: transparent;\n",
              "      border-right-color: var(--fill-color);\n",
              "      border-bottom-color: var(--fill-color);\n",
              "    }\n",
              "    90% {\n",
              "      border-color: transparent;\n",
              "      border-bottom-color: var(--fill-color);\n",
              "    }\n",
              "  }\n",
              "</style>\n",
              "\n",
              "  <script>\n",
              "    async function quickchart(key) {\n",
              "      const quickchartButtonEl =\n",
              "        document.querySelector('#' + key + ' button');\n",
              "      quickchartButtonEl.disabled = true;  // To prevent multiple clicks.\n",
              "      quickchartButtonEl.classList.add('colab-df-spinner');\n",
              "      try {\n",
              "        const charts = await google.colab.kernel.invokeFunction(\n",
              "            'suggestCharts', [key], {});\n",
              "      } catch (error) {\n",
              "        console.error('Error during call to suggestCharts:', error);\n",
              "      }\n",
              "      quickchartButtonEl.classList.remove('colab-df-spinner');\n",
              "      quickchartButtonEl.classList.add('colab-df-quickchart-complete');\n",
              "    }\n",
              "    (() => {\n",
              "      let quickchartButtonEl =\n",
              "        document.querySelector('#df-b7d9b7dd-f730-4568-b42a-2bf32a1eb83e button');\n",
              "      quickchartButtonEl.style.display =\n",
              "        google.colab.kernel.accessAllowed ? 'block' : 'none';\n",
              "    })();\n",
              "  </script>\n",
              "</div>\n",
              "\n",
              "  <div id=\"id_de146b91-144e-4817-8848-c35129199c8b\">\n",
              "    <style>\n",
              "      .colab-df-generate {\n",
              "        background-color: #E8F0FE;\n",
              "        border: none;\n",
              "        border-radius: 50%;\n",
              "        cursor: pointer;\n",
              "        display: none;\n",
              "        fill: #1967D2;\n",
              "        height: 32px;\n",
              "        padding: 0 0 0 0;\n",
              "        width: 32px;\n",
              "      }\n",
              "\n",
              "      .colab-df-generate:hover {\n",
              "        background-color: #E2EBFA;\n",
              "        box-shadow: 0px 1px 2px rgba(60, 64, 67, 0.3), 0px 1px 3px 1px rgba(60, 64, 67, 0.15);\n",
              "        fill: #174EA6;\n",
              "      }\n",
              "\n",
              "      [theme=dark] .colab-df-generate {\n",
              "        background-color: #3B4455;\n",
              "        fill: #D2E3FC;\n",
              "      }\n",
              "\n",
              "      [theme=dark] .colab-df-generate:hover {\n",
              "        background-color: #434B5C;\n",
              "        box-shadow: 0px 1px 3px 1px rgba(0, 0, 0, 0.15);\n",
              "        filter: drop-shadow(0px 1px 2px rgba(0, 0, 0, 0.3));\n",
              "        fill: #FFFFFF;\n",
              "      }\n",
              "    </style>\n",
              "    <button class=\"colab-df-generate\" onclick=\"generateWithVariable('cwyd')\"\n",
              "            title=\"Generate code using this dataframe.\"\n",
              "            style=\"display:none;\">\n",
              "\n",
              "  <svg xmlns=\"http://www.w3.org/2000/svg\" height=\"24px\"viewBox=\"0 0 24 24\"\n",
              "       width=\"24px\">\n",
              "    <path d=\"M7,19H8.4L18.45,9,17,7.55,7,17.6ZM5,21V16.75L18.45,3.32a2,2,0,0,1,2.83,0l1.4,1.43a1.91,1.91,0,0,1,.58,1.4,1.91,1.91,0,0,1-.58,1.4L9.25,21ZM18.45,9,17,7.55Zm-12,3A5.31,5.31,0,0,0,4.9,8.1,5.31,5.31,0,0,0,1,6.5,5.31,5.31,0,0,0,4.9,4.9,5.31,5.31,0,0,0,6.5,1,5.31,5.31,0,0,0,8.1,4.9,5.31,5.31,0,0,0,12,6.5,5.46,5.46,0,0,0,6.5,12Z\"/>\n",
              "  </svg>\n",
              "    </button>\n",
              "    <script>\n",
              "      (() => {\n",
              "      const buttonEl =\n",
              "        document.querySelector('#id_de146b91-144e-4817-8848-c35129199c8b button.colab-df-generate');\n",
              "      buttonEl.style.display =\n",
              "        google.colab.kernel.accessAllowed ? 'block' : 'none';\n",
              "\n",
              "      buttonEl.onclick = () => {\n",
              "        google.colab.notebook.generateWithVariable('cwyd');\n",
              "      }\n",
              "      })();\n",
              "    </script>\n",
              "  </div>\n",
              "\n",
              "    </div>\n",
              "  </div>\n"
            ],
            "application/vnd.google.colaboratory.intrinsic+json": {
              "type": "dataframe",
              "variable_name": "cwyd",
              "summary": "{\n  \"name\": \"cwyd\",\n  \"rows\": 23,\n  \"fields\": [\n    {\n      \"column\": \"Videotitle\",\n      \"properties\": {\n        \"dtype\": \"string\",\n        \"num_unique_values\": 23,\n        \"samples\": [\n          \"Hidden Camera Pranks\",\n          \"Comedy Roast\",\n          \"Best of Pranks\"\n        ],\n        \"semantic_type\": \"\",\n        \"description\": \"\"\n      }\n    },\n    {\n      \"column\": \"ContentType\",\n      \"properties\": {\n        \"dtype\": \"category\",\n        \"num_unique_values\": 8,\n        \"samples\": [\n          \"Roast\",\n          \"Review\",\n          \"Pranks\"\n        ],\n        \"semantic_type\": \"\",\n        \"description\": \"\"\n      }\n    },\n    {\n      \"column\": \"Videotype\",\n      \"properties\": {\n        \"dtype\": \"category\",\n        \"num_unique_values\": 2,\n        \"samples\": [\n          \"Shorts\",\n          \"Long Video\"\n        ],\n        \"semantic_type\": \"\",\n        \"description\": \"\"\n      }\n    },\n    {\n      \"column\": \"Commentsadded\",\n      \"properties\": {\n        \"dtype\": \"number\",\n        \"std\": 41,\n        \"min\": 274,\n        \"max\": 421,\n        \"num_unique_values\": 19,\n        \"samples\": [\n          309,\n          371\n        ],\n        \"semantic_type\": \"\",\n        \"description\": \"\"\n      }\n    },\n    {\n      \"column\": \"Shares\",\n      \"properties\": {\n        \"dtype\": \"number\",\n        \"std\": 75,\n        \"min\": 685,\n        \"max\": 962,\n        \"num_unique_values\": 20,\n        \"samples\": [\n          815,\n          774\n        ],\n        \"semantic_type\": \"\",\n        \"description\": \"\"\n      }\n    },\n    {\n      \"column\": \"Likes\",\n      \"properties\": {\n        \"dtype\": \"number\",\n        \"std\": 228,\n        \"min\": 1875,\n        \"max\": 2765,\n        \"num_unique_values\": 19,\n        \"samples\": [\n          2147,\n          2401\n        ],\n        \"semantic_type\": \"\",\n        \"description\": \"\"\n      }\n    },\n    {\n      \"column\": \"Subscribers\",\n      \"properties\": {\n        \"dtype\": \"number\",\n        \"std\": 64,\n        \"min\": 413,\n        \"max\": 655,\n        \"num_unique_values\": 20,\n        \"samples\": [\n          542,\n          482\n        ],\n        \"semantic_type\": \"\",\n        \"description\": \"\"\n      }\n    },\n    {\n      \"column\": \"Impressions\",\n      \"properties\": {\n        \"dtype\": \"number\",\n        \"std\": 421,\n        \"min\": 3182,\n        \"max\": 4911,\n        \"num_unique_values\": 20,\n        \"samples\": [\n          3872,\n          3745\n        ],\n        \"semantic_type\": \"\",\n        \"description\": \"\"\n      }\n    },\n    {\n      \"column\": \"Clicks\",\n      \"properties\": {\n        \"dtype\": \"number\",\n        \"std\": 73,\n        \"min\": 599,\n        \"max\": 912,\n        \"num_unique_values\": 18,\n        \"samples\": [\n          711,\n          688\n        ],\n        \"semantic_type\": \"\",\n        \"description\": \"\"\n      }\n    },\n    {\n      \"column\": \"Viewers\",\n      \"properties\": {\n        \"dtype\": \"number\",\n        \"std\": 64613,\n        \"min\": 19756,\n        \"max\": 340091,\n        \"num_unique_values\": 23,\n        \"samples\": [\n          127900,\n          19756\n        ],\n        \"semantic_type\": \"\",\n        \"description\": \"\"\n      }\n    }\n  ]\n}"
            }
          },
          "metadata": {},
          "execution_count": 2
        }
      ]
    },
    {
      "cell_type": "markdown",
      "source": [
        "***`Task 3: Find the data  of the youtube videos whose ContentType is “Pranks”.`***"
      ],
      "metadata": {
        "id": "IkAV7DqjPFfJ"
      }
    },
    {
      "cell_type": "code",
      "source": [
        "cwyd.query('ContentType==\"Pranks\"')"
      ],
      "metadata": {
        "colab": {
          "base_uri": "https://localhost:8080/",
          "height": 143
        },
        "id": "vqtDGUNNPH33",
        "outputId": "2074954d-3a08-40f0-d42b-fe5e3772c8b8"
      },
      "execution_count": 3,
      "outputs": [
        {
          "output_type": "execute_result",
          "data": {
            "text/plain": [
              "              Videotitle ContentType   Videotype  Commentsadded  Shares  \\\n",
              "0         Best of Pranks      Pranks  Long Video            309     815   \n",
              "15  Hidden Camera Pranks      Pranks  Long Video            284     704   \n",
              "19            Prank Wars      Pranks  Long Video            289     774   \n",
              "\n",
              "    Likes  Subscribers  Impressions  Clicks  Viewers  \n",
              "0    2147          542         3872     711   170245  \n",
              "15   1972          421         3210     602   127900  \n",
              "19   2054          496         3745     698   160372  "
            ],
            "text/html": [
              "\n",
              "  <div id=\"df-aba9f45d-def1-4639-b7e4-fe378e1611d3\" class=\"colab-df-container\">\n",
              "    <div>\n",
              "<style scoped>\n",
              "    .dataframe tbody tr th:only-of-type {\n",
              "        vertical-align: middle;\n",
              "    }\n",
              "\n",
              "    .dataframe tbody tr th {\n",
              "        vertical-align: top;\n",
              "    }\n",
              "\n",
              "    .dataframe thead th {\n",
              "        text-align: right;\n",
              "    }\n",
              "</style>\n",
              "<table border=\"1\" class=\"dataframe\">\n",
              "  <thead>\n",
              "    <tr style=\"text-align: right;\">\n",
              "      <th></th>\n",
              "      <th>Videotitle</th>\n",
              "      <th>ContentType</th>\n",
              "      <th>Videotype</th>\n",
              "      <th>Commentsadded</th>\n",
              "      <th>Shares</th>\n",
              "      <th>Likes</th>\n",
              "      <th>Subscribers</th>\n",
              "      <th>Impressions</th>\n",
              "      <th>Clicks</th>\n",
              "      <th>Viewers</th>\n",
              "    </tr>\n",
              "  </thead>\n",
              "  <tbody>\n",
              "    <tr>\n",
              "      <th>0</th>\n",
              "      <td>Best of Pranks</td>\n",
              "      <td>Pranks</td>\n",
              "      <td>Long Video</td>\n",
              "      <td>309</td>\n",
              "      <td>815</td>\n",
              "      <td>2147</td>\n",
              "      <td>542</td>\n",
              "      <td>3872</td>\n",
              "      <td>711</td>\n",
              "      <td>170245</td>\n",
              "    </tr>\n",
              "    <tr>\n",
              "      <th>15</th>\n",
              "      <td>Hidden Camera Pranks</td>\n",
              "      <td>Pranks</td>\n",
              "      <td>Long Video</td>\n",
              "      <td>284</td>\n",
              "      <td>704</td>\n",
              "      <td>1972</td>\n",
              "      <td>421</td>\n",
              "      <td>3210</td>\n",
              "      <td>602</td>\n",
              "      <td>127900</td>\n",
              "    </tr>\n",
              "    <tr>\n",
              "      <th>19</th>\n",
              "      <td>Prank Wars</td>\n",
              "      <td>Pranks</td>\n",
              "      <td>Long Video</td>\n",
              "      <td>289</td>\n",
              "      <td>774</td>\n",
              "      <td>2054</td>\n",
              "      <td>496</td>\n",
              "      <td>3745</td>\n",
              "      <td>698</td>\n",
              "      <td>160372</td>\n",
              "    </tr>\n",
              "  </tbody>\n",
              "</table>\n",
              "</div>\n",
              "    <div class=\"colab-df-buttons\">\n",
              "\n",
              "  <div class=\"colab-df-container\">\n",
              "    <button class=\"colab-df-convert\" onclick=\"convertToInteractive('df-aba9f45d-def1-4639-b7e4-fe378e1611d3')\"\n",
              "            title=\"Convert this dataframe to an interactive table.\"\n",
              "            style=\"display:none;\">\n",
              "\n",
              "  <svg xmlns=\"http://www.w3.org/2000/svg\" height=\"24px\" viewBox=\"0 -960 960 960\">\n",
              "    <path d=\"M120-120v-720h720v720H120Zm60-500h600v-160H180v160Zm220 220h160v-160H400v160Zm0 220h160v-160H400v160ZM180-400h160v-160H180v160Zm440 0h160v-160H620v160ZM180-180h160v-160H180v160Zm440 0h160v-160H620v160Z\"/>\n",
              "  </svg>\n",
              "    </button>\n",
              "\n",
              "  <style>\n",
              "    .colab-df-container {\n",
              "      display:flex;\n",
              "      gap: 12px;\n",
              "    }\n",
              "\n",
              "    .colab-df-convert {\n",
              "      background-color: #E8F0FE;\n",
              "      border: none;\n",
              "      border-radius: 50%;\n",
              "      cursor: pointer;\n",
              "      display: none;\n",
              "      fill: #1967D2;\n",
              "      height: 32px;\n",
              "      padding: 0 0 0 0;\n",
              "      width: 32px;\n",
              "    }\n",
              "\n",
              "    .colab-df-convert:hover {\n",
              "      background-color: #E2EBFA;\n",
              "      box-shadow: 0px 1px 2px rgba(60, 64, 67, 0.3), 0px 1px 3px 1px rgba(60, 64, 67, 0.15);\n",
              "      fill: #174EA6;\n",
              "    }\n",
              "\n",
              "    .colab-df-buttons div {\n",
              "      margin-bottom: 4px;\n",
              "    }\n",
              "\n",
              "    [theme=dark] .colab-df-convert {\n",
              "      background-color: #3B4455;\n",
              "      fill: #D2E3FC;\n",
              "    }\n",
              "\n",
              "    [theme=dark] .colab-df-convert:hover {\n",
              "      background-color: #434B5C;\n",
              "      box-shadow: 0px 1px 3px 1px rgba(0, 0, 0, 0.15);\n",
              "      filter: drop-shadow(0px 1px 2px rgba(0, 0, 0, 0.3));\n",
              "      fill: #FFFFFF;\n",
              "    }\n",
              "  </style>\n",
              "\n",
              "    <script>\n",
              "      const buttonEl =\n",
              "        document.querySelector('#df-aba9f45d-def1-4639-b7e4-fe378e1611d3 button.colab-df-convert');\n",
              "      buttonEl.style.display =\n",
              "        google.colab.kernel.accessAllowed ? 'block' : 'none';\n",
              "\n",
              "      async function convertToInteractive(key) {\n",
              "        const element = document.querySelector('#df-aba9f45d-def1-4639-b7e4-fe378e1611d3');\n",
              "        const dataTable =\n",
              "          await google.colab.kernel.invokeFunction('convertToInteractive',\n",
              "                                                    [key], {});\n",
              "        if (!dataTable) return;\n",
              "\n",
              "        const docLinkHtml = 'Like what you see? Visit the ' +\n",
              "          '<a target=\"_blank\" href=https://colab.research.google.com/notebooks/data_table.ipynb>data table notebook</a>'\n",
              "          + ' to learn more about interactive tables.';\n",
              "        element.innerHTML = '';\n",
              "        dataTable['output_type'] = 'display_data';\n",
              "        await google.colab.output.renderOutput(dataTable, element);\n",
              "        const docLink = document.createElement('div');\n",
              "        docLink.innerHTML = docLinkHtml;\n",
              "        element.appendChild(docLink);\n",
              "      }\n",
              "    </script>\n",
              "  </div>\n",
              "\n",
              "\n",
              "<div id=\"df-1f43fb24-fc23-416c-8b35-c0206b552284\">\n",
              "  <button class=\"colab-df-quickchart\" onclick=\"quickchart('df-1f43fb24-fc23-416c-8b35-c0206b552284')\"\n",
              "            title=\"Suggest charts\"\n",
              "            style=\"display:none;\">\n",
              "\n",
              "<svg xmlns=\"http://www.w3.org/2000/svg\" height=\"24px\"viewBox=\"0 0 24 24\"\n",
              "     width=\"24px\">\n",
              "    <g>\n",
              "        <path d=\"M19 3H5c-1.1 0-2 .9-2 2v14c0 1.1.9 2 2 2h14c1.1 0 2-.9 2-2V5c0-1.1-.9-2-2-2zM9 17H7v-7h2v7zm4 0h-2V7h2v10zm4 0h-2v-4h2v4z\"/>\n",
              "    </g>\n",
              "</svg>\n",
              "  </button>\n",
              "\n",
              "<style>\n",
              "  .colab-df-quickchart {\n",
              "      --bg-color: #E8F0FE;\n",
              "      --fill-color: #1967D2;\n",
              "      --hover-bg-color: #E2EBFA;\n",
              "      --hover-fill-color: #174EA6;\n",
              "      --disabled-fill-color: #AAA;\n",
              "      --disabled-bg-color: #DDD;\n",
              "  }\n",
              "\n",
              "  [theme=dark] .colab-df-quickchart {\n",
              "      --bg-color: #3B4455;\n",
              "      --fill-color: #D2E3FC;\n",
              "      --hover-bg-color: #434B5C;\n",
              "      --hover-fill-color: #FFFFFF;\n",
              "      --disabled-bg-color: #3B4455;\n",
              "      --disabled-fill-color: #666;\n",
              "  }\n",
              "\n",
              "  .colab-df-quickchart {\n",
              "    background-color: var(--bg-color);\n",
              "    border: none;\n",
              "    border-radius: 50%;\n",
              "    cursor: pointer;\n",
              "    display: none;\n",
              "    fill: var(--fill-color);\n",
              "    height: 32px;\n",
              "    padding: 0;\n",
              "    width: 32px;\n",
              "  }\n",
              "\n",
              "  .colab-df-quickchart:hover {\n",
              "    background-color: var(--hover-bg-color);\n",
              "    box-shadow: 0 1px 2px rgba(60, 64, 67, 0.3), 0 1px 3px 1px rgba(60, 64, 67, 0.15);\n",
              "    fill: var(--button-hover-fill-color);\n",
              "  }\n",
              "\n",
              "  .colab-df-quickchart-complete:disabled,\n",
              "  .colab-df-quickchart-complete:disabled:hover {\n",
              "    background-color: var(--disabled-bg-color);\n",
              "    fill: var(--disabled-fill-color);\n",
              "    box-shadow: none;\n",
              "  }\n",
              "\n",
              "  .colab-df-spinner {\n",
              "    border: 2px solid var(--fill-color);\n",
              "    border-color: transparent;\n",
              "    border-bottom-color: var(--fill-color);\n",
              "    animation:\n",
              "      spin 1s steps(1) infinite;\n",
              "  }\n",
              "\n",
              "  @keyframes spin {\n",
              "    0% {\n",
              "      border-color: transparent;\n",
              "      border-bottom-color: var(--fill-color);\n",
              "      border-left-color: var(--fill-color);\n",
              "    }\n",
              "    20% {\n",
              "      border-color: transparent;\n",
              "      border-left-color: var(--fill-color);\n",
              "      border-top-color: var(--fill-color);\n",
              "    }\n",
              "    30% {\n",
              "      border-color: transparent;\n",
              "      border-left-color: var(--fill-color);\n",
              "      border-top-color: var(--fill-color);\n",
              "      border-right-color: var(--fill-color);\n",
              "    }\n",
              "    40% {\n",
              "      border-color: transparent;\n",
              "      border-right-color: var(--fill-color);\n",
              "      border-top-color: var(--fill-color);\n",
              "    }\n",
              "    60% {\n",
              "      border-color: transparent;\n",
              "      border-right-color: var(--fill-color);\n",
              "    }\n",
              "    80% {\n",
              "      border-color: transparent;\n",
              "      border-right-color: var(--fill-color);\n",
              "      border-bottom-color: var(--fill-color);\n",
              "    }\n",
              "    90% {\n",
              "      border-color: transparent;\n",
              "      border-bottom-color: var(--fill-color);\n",
              "    }\n",
              "  }\n",
              "</style>\n",
              "\n",
              "  <script>\n",
              "    async function quickchart(key) {\n",
              "      const quickchartButtonEl =\n",
              "        document.querySelector('#' + key + ' button');\n",
              "      quickchartButtonEl.disabled = true;  // To prevent multiple clicks.\n",
              "      quickchartButtonEl.classList.add('colab-df-spinner');\n",
              "      try {\n",
              "        const charts = await google.colab.kernel.invokeFunction(\n",
              "            'suggestCharts', [key], {});\n",
              "      } catch (error) {\n",
              "        console.error('Error during call to suggestCharts:', error);\n",
              "      }\n",
              "      quickchartButtonEl.classList.remove('colab-df-spinner');\n",
              "      quickchartButtonEl.classList.add('colab-df-quickchart-complete');\n",
              "    }\n",
              "    (() => {\n",
              "      let quickchartButtonEl =\n",
              "        document.querySelector('#df-1f43fb24-fc23-416c-8b35-c0206b552284 button');\n",
              "      quickchartButtonEl.style.display =\n",
              "        google.colab.kernel.accessAllowed ? 'block' : 'none';\n",
              "    })();\n",
              "  </script>\n",
              "</div>\n",
              "\n",
              "    </div>\n",
              "  </div>\n"
            ],
            "application/vnd.google.colaboratory.intrinsic+json": {
              "type": "dataframe",
              "summary": "{\n  \"name\": \"cwyd\",\n  \"rows\": 3,\n  \"fields\": [\n    {\n      \"column\": \"Videotitle\",\n      \"properties\": {\n        \"dtype\": \"string\",\n        \"num_unique_values\": 3,\n        \"samples\": [\n          \"Best of Pranks\",\n          \"Hidden Camera Pranks\",\n          \"Prank Wars\"\n        ],\n        \"semantic_type\": \"\",\n        \"description\": \"\"\n      }\n    },\n    {\n      \"column\": \"ContentType\",\n      \"properties\": {\n        \"dtype\": \"category\",\n        \"num_unique_values\": 1,\n        \"samples\": [\n          \"Pranks\"\n        ],\n        \"semantic_type\": \"\",\n        \"description\": \"\"\n      }\n    },\n    {\n      \"column\": \"Videotype\",\n      \"properties\": {\n        \"dtype\": \"category\",\n        \"num_unique_values\": 1,\n        \"samples\": [\n          \"Long Video\"\n        ],\n        \"semantic_type\": \"\",\n        \"description\": \"\"\n      }\n    },\n    {\n      \"column\": \"Commentsadded\",\n      \"properties\": {\n        \"dtype\": \"number\",\n        \"std\": 13,\n        \"min\": 284,\n        \"max\": 309,\n        \"num_unique_values\": 3,\n        \"samples\": [\n          309\n        ],\n        \"semantic_type\": \"\",\n        \"description\": \"\"\n      }\n    },\n    {\n      \"column\": \"Shares\",\n      \"properties\": {\n        \"dtype\": \"number\",\n        \"std\": 56,\n        \"min\": 704,\n        \"max\": 815,\n        \"num_unique_values\": 3,\n        \"samples\": [\n          815\n        ],\n        \"semantic_type\": \"\",\n        \"description\": \"\"\n      }\n    },\n    {\n      \"column\": \"Likes\",\n      \"properties\": {\n        \"dtype\": \"number\",\n        \"std\": 87,\n        \"min\": 1972,\n        \"max\": 2147,\n        \"num_unique_values\": 3,\n        \"samples\": [\n          2147\n        ],\n        \"semantic_type\": \"\",\n        \"description\": \"\"\n      }\n    },\n    {\n      \"column\": \"Subscribers\",\n      \"properties\": {\n        \"dtype\": \"number\",\n        \"std\": 61,\n        \"min\": 421,\n        \"max\": 542,\n        \"num_unique_values\": 3,\n        \"samples\": [\n          542\n        ],\n        \"semantic_type\": \"\",\n        \"description\": \"\"\n      }\n    },\n    {\n      \"column\": \"Impressions\",\n      \"properties\": {\n        \"dtype\": \"number\",\n        \"std\": 351,\n        \"min\": 3210,\n        \"max\": 3872,\n        \"num_unique_values\": 3,\n        \"samples\": [\n          3872\n        ],\n        \"semantic_type\": \"\",\n        \"description\": \"\"\n      }\n    },\n    {\n      \"column\": \"Clicks\",\n      \"properties\": {\n        \"dtype\": \"number\",\n        \"std\": 59,\n        \"min\": 602,\n        \"max\": 711,\n        \"num_unique_values\": 3,\n        \"samples\": [\n          711\n        ],\n        \"semantic_type\": \"\",\n        \"description\": \"\"\n      }\n    },\n    {\n      \"column\": \"Viewers\",\n      \"properties\": {\n        \"dtype\": \"number\",\n        \"std\": 22154,\n        \"min\": 127900,\n        \"max\": 170245,\n        \"num_unique_values\": 3,\n        \"samples\": [\n          170245\n        ],\n        \"semantic_type\": \"\",\n        \"description\": \"\"\n      }\n    }\n  ]\n}"
            }
          },
          "metadata": {},
          "execution_count": 3
        }
      ]
    },
    {
      "cell_type": "markdown",
      "source": [
        "***`Task 4: Find the number of the youtube videos whose Videotype is “Shorts”.`***"
      ],
      "metadata": {
        "id": "rKswN4_nPft_"
      }
    },
    {
      "cell_type": "code",
      "source": [
        "cwyd.query('Videotype==\"Shorts\"')[\"Videotype\"].count()"
      ],
      "metadata": {
        "colab": {
          "base_uri": "https://localhost:8080/"
        },
        "id": "dcLXW0p3Pipa",
        "outputId": "a761f3c4-99b8-481f-bf5d-f2cb88174097"
      },
      "execution_count": 5,
      "outputs": [
        {
          "output_type": "execute_result",
          "data": {
            "text/plain": [
              "5"
            ]
          },
          "metadata": {},
          "execution_count": 5
        }
      ]
    },
    {
      "cell_type": "markdown",
      "source": [
        "**Task 5:**\n",
        "\n",
        "1.Count the number of youtube videos whose ContentType is Compilation.\n",
        "\n",
        "2.Find the maximum “Commentsadded” among the Videotype “Long Video”.\n",
        "\n",
        "3.Find the minimum “Shares” among the Videotype “Long Video”."
      ],
      "metadata": {
        "id": "FotOrYXGQWMn"
      }
    },
    {
      "cell_type": "code",
      "source": [
        "cwyd.query('ContentType==\"Compilation\"')[\"ContentType\"].count()"
      ],
      "metadata": {
        "colab": {
          "base_uri": "https://localhost:8080/"
        },
        "id": "ZZoPMZslQdcY",
        "outputId": "338134f1-1e20-49a6-ce16-101e89c93efb"
      },
      "execution_count": 6,
      "outputs": [
        {
          "output_type": "execute_result",
          "data": {
            "text/plain": [
              "2"
            ]
          },
          "metadata": {},
          "execution_count": 6
        }
      ]
    },
    {
      "cell_type": "code",
      "source": [
        "cwyd.query('Videotype==\"Long Video\"')[\"Commentsadded\"].max()"
      ],
      "metadata": {
        "colab": {
          "base_uri": "https://localhost:8080/"
        },
        "id": "SvwK-87sYb9s",
        "outputId": "2bc0a131-731d-48ae-8d6e-ad29476a559c"
      },
      "execution_count": 7,
      "outputs": [
        {
          "output_type": "execute_result",
          "data": {
            "text/plain": [
              "421"
            ]
          },
          "metadata": {},
          "execution_count": 7
        }
      ]
    },
    {
      "cell_type": "code",
      "source": [
        "cwyd.query('Videotype==\"Long Video\"')[\"Shares\"].min()"
      ],
      "metadata": {
        "colab": {
          "base_uri": "https://localhost:8080/"
        },
        "id": "o0li3ulsZBnS",
        "outputId": "1e274c6c-b0b8-4852-e07a-c433a8d20b70"
      },
      "execution_count": 9,
      "outputs": [
        {
          "output_type": "execute_result",
          "data": {
            "text/plain": [
              "685"
            ]
          },
          "metadata": {},
          "execution_count": 9
        }
      ]
    },
    {
      "cell_type": "markdown",
      "source": [
        "***`Task 6: Find the average shares among ContentType “Stand-Up”.`***"
      ],
      "metadata": {
        "id": "s2J1EC5gZS5B"
      }
    },
    {
      "cell_type": "code",
      "source": [
        "cwyd.query('ContentType==\"Stand-Up\"')[\"Shares\"].mean()"
      ],
      "metadata": {
        "colab": {
          "base_uri": "https://localhost:8080/"
        },
        "id": "eWnwuBTvZVl5",
        "outputId": "871f8bd6-3c8e-467f-a8cb-5a9218d1d787"
      },
      "execution_count": 14,
      "outputs": [
        {
          "output_type": "execute_result",
          "data": {
            "text/plain": [
              "834.6"
            ]
          },
          "metadata": {},
          "execution_count": 14
        }
      ]
    },
    {
      "cell_type": "markdown",
      "source": [
        "***`Task 7: Find the sum of likes among youtube videos whose “Commentsadded” is more than 310.`***"
      ],
      "metadata": {
        "id": "vx9ATEQDaMD5"
      }
    },
    {
      "cell_type": "code",
      "source": [
        "cwyd.query('Commentsadded>310')[\"Likes\"].sum()"
      ],
      "metadata": {
        "colab": {
          "base_uri": "https://localhost:8080/"
        },
        "id": "3TmFtFgHaO9p",
        "outputId": "489e173e-c17e-44c8-deeb-6b5f2900efa9"
      },
      "execution_count": 24,
      "outputs": [
        {
          "output_type": "execute_result",
          "data": {
            "text/plain": [
              "35413"
            ]
          },
          "metadata": {},
          "execution_count": 24
        }
      ]
    },
    {
      "cell_type": "markdown",
      "source": [
        "***`Task 8: Find the sum of  “Subscribers” where Videotype is “Long Video”.`***"
      ],
      "metadata": {
        "id": "wXQmTMzQatuX"
      }
    },
    {
      "cell_type": "code",
      "source": [
        "cwyd.query('Videotype==\"Long Video\"')[\"Subscribers\"].sum()"
      ],
      "metadata": {
        "colab": {
          "base_uri": "https://localhost:8080/"
        },
        "id": "6lQ3gd9aawop",
        "outputId": "5d672258-be77-4291-ba95-196ab3d90f66"
      },
      "execution_count": 16,
      "outputs": [
        {
          "output_type": "execute_result",
          "data": {
            "text/plain": [
              "9159"
            ]
          },
          "metadata": {},
          "execution_count": 16
        }
      ]
    },
    {
      "cell_type": "markdown",
      "source": [
        "***`Task 9: Find the average of  “Subscribers” among ContentType “Roast”.`***"
      ],
      "metadata": {
        "id": "RVNFeF2YbGwP"
      }
    },
    {
      "cell_type": "code",
      "source": [
        "cwyd.query('ContentType==\"Roast\"')[\"Subscribers\"].mean()"
      ],
      "metadata": {
        "colab": {
          "base_uri": "https://localhost:8080/"
        },
        "id": "kFcrZNBAbJs4",
        "outputId": "3157e3f8-4423-4f6b-bdef-efa4382002ab"
      },
      "execution_count": 17,
      "outputs": [
        {
          "output_type": "execute_result",
          "data": {
            "text/plain": [
              "506.6666666666667"
            ]
          },
          "metadata": {},
          "execution_count": 17
        }
      ]
    },
    {
      "cell_type": "markdown",
      "source": [
        "***`Task 10: Find the number of youtube videos in the “Videotype” “Long Video”.`***"
      ],
      "metadata": {
        "id": "dnJqAmaZbhoR"
      }
    },
    {
      "cell_type": "code",
      "source": [
        "cwyd.query('Videotype==\"Long Video\"')[\"Videotype\"].count()"
      ],
      "metadata": {
        "colab": {
          "base_uri": "https://localhost:8080/"
        },
        "id": "-JV656j5bkC4",
        "outputId": "0ef94597-d520-4b87-d757-c9ea1fe4b7df"
      },
      "execution_count": 20,
      "outputs": [
        {
          "output_type": "execute_result",
          "data": {
            "text/plain": [
              "18"
            ]
          },
          "metadata": {},
          "execution_count": 20
        }
      ]
    },
    {
      "cell_type": "markdown",
      "source": [
        "***`Task 11: Find the minimum number of  “Impressions” where “Clicks’ are more than 700.`***"
      ],
      "metadata": {
        "id": "e-SeNNGrdMjj"
      }
    },
    {
      "cell_type": "code",
      "source": [
        "cwyd.query('Clicks>700')[\"Impressions\"].min()"
      ],
      "metadata": {
        "colab": {
          "base_uri": "https://localhost:8080/"
        },
        "id": "LUm4n6VodPSW",
        "outputId": "d648dd43-b91c-4c8b-91c7-c5dee09e697a"
      },
      "execution_count": 25,
      "outputs": [
        {
          "output_type": "execute_result",
          "data": {
            "text/plain": [
              "3774"
            ]
          },
          "metadata": {},
          "execution_count": 25
        }
      ]
    },
    {
      "cell_type": "markdown",
      "source": [
        "***`Task 12: Find the sum of “Viewers” where “Subscribers” are more than 500.`***"
      ],
      "metadata": {
        "id": "7q8yRp0HenQY"
      }
    },
    {
      "cell_type": "code",
      "source": [
        "cwyd.query('Subscribers>500')[\"Viewers\"].sum()"
      ],
      "metadata": {
        "colab": {
          "base_uri": "https://localhost:8080/"
        },
        "id": "CS7tSFFRep8D",
        "outputId": "4b01895a-b1d9-4fe3-c466-5667d30f5ded"
      },
      "execution_count": 26,
      "outputs": [
        {
          "output_type": "execute_result",
          "data": {
            "text/plain": [
              "1782502"
            ]
          },
          "metadata": {},
          "execution_count": 26
        }
      ]
    },
    {
      "cell_type": "markdown",
      "source": [
        "**`Task 13: Find the average of “Clicks” whose “Likes” are more than 2000.`**"
      ],
      "metadata": {
        "id": "jI3J-XyZfAoG"
      }
    },
    {
      "cell_type": "code",
      "source": [
        "cwyd.query('Likes>2000')[\"Clicks\"].mean()"
      ],
      "metadata": {
        "colab": {
          "base_uri": "https://localhost:8080/"
        },
        "id": "DEZzV5i0fDqZ",
        "outputId": "03d32650-20b3-49b0-c2d6-0d2853399b65"
      },
      "execution_count": 27,
      "outputs": [
        {
          "output_type": "execute_result",
          "data": {
            "text/plain": [
              "725.65"
            ]
          },
          "metadata": {},
          "execution_count": 27
        }
      ]
    },
    {
      "cell_type": "markdown",
      "source": [
        "***`Task 14: Find the maximum “Subscribers” where “Viewers” are more than 150000.`***"
      ],
      "metadata": {
        "id": "Ykb80EwifRMD"
      }
    },
    {
      "cell_type": "code",
      "source": [
        "cwyd.query('Viewers>150000')[\"Subscribers\"].max()"
      ],
      "metadata": {
        "colab": {
          "base_uri": "https://localhost:8080/"
        },
        "id": "QZYB2-8ZfUMe",
        "outputId": "31a75961-26cd-43d7-b0fe-2a3090273976"
      },
      "execution_count": 28,
      "outputs": [
        {
          "output_type": "execute_result",
          "data": {
            "text/plain": [
              "638"
            ]
          },
          "metadata": {},
          "execution_count": 28
        }
      ]
    },
    {
      "cell_type": "markdown",
      "source": [
        "**`Task 15: Find the average “Impressions” where “Subscribers” are less than 500.`**"
      ],
      "metadata": {
        "id": "pdI9dRo7flKc"
      }
    },
    {
      "cell_type": "code",
      "source": [
        "cwyd.query('Subscribers<500')[\"Impressions\"].mean()"
      ],
      "metadata": {
        "colab": {
          "base_uri": "https://localhost:8080/"
        },
        "id": "LhmZemGGfnxA",
        "outputId": "dc0876b9-cbb4-4bb8-d41e-3d8db6e9daf5"
      },
      "execution_count": 29,
      "outputs": [
        {
          "output_type": "execute_result",
          "data": {
            "text/plain": [
              "3512.9"
            ]
          },
          "metadata": {},
          "execution_count": 29
        }
      ]
    },
    {
      "cell_type": "markdown",
      "source": [
        "***`Task16: Retrieve the Videotile whose Likes are less than the average Likes of all Videotitle.`***"
      ],
      "metadata": {
        "id": "cWyCf0I1f6F7"
      }
    },
    {
      "cell_type": "code",
      "source": [
        "cwyd.query('Likes<Likes.mean()')[\"Videotitle\"]"
      ],
      "metadata": {
        "colab": {
          "base_uri": "https://localhost:8080/",
          "height": 397
        },
        "id": "BAKnYfFlf83e",
        "outputId": "eca6b255-94b8-43f6-8305-9c6823c02e25"
      },
      "execution_count": 34,
      "outputs": [
        {
          "output_type": "execute_result",
          "data": {
            "text/plain": [
              "0            Best of Pranks\n",
              "3           Comedy Bloopers\n",
              "6               Comedy Club\n",
              "8             Comedy Review\n",
              "13       Funny Memes Review\n",
              "14            Funny Moments\n",
              "15     Hidden Camera Pranks\n",
              "18      Parody Music Videos\n",
              "19               Prank Wars\n",
              "21    Stand-Up Comedy Night\n",
              "Name: Videotitle, dtype: object"
            ],
            "text/html": [
              "<div>\n",
              "<style scoped>\n",
              "    .dataframe tbody tr th:only-of-type {\n",
              "        vertical-align: middle;\n",
              "    }\n",
              "\n",
              "    .dataframe tbody tr th {\n",
              "        vertical-align: top;\n",
              "    }\n",
              "\n",
              "    .dataframe thead th {\n",
              "        text-align: right;\n",
              "    }\n",
              "</style>\n",
              "<table border=\"1\" class=\"dataframe\">\n",
              "  <thead>\n",
              "    <tr style=\"text-align: right;\">\n",
              "      <th></th>\n",
              "      <th>Videotitle</th>\n",
              "    </tr>\n",
              "  </thead>\n",
              "  <tbody>\n",
              "    <tr>\n",
              "      <th>0</th>\n",
              "      <td>Best of Pranks</td>\n",
              "    </tr>\n",
              "    <tr>\n",
              "      <th>3</th>\n",
              "      <td>Comedy Bloopers</td>\n",
              "    </tr>\n",
              "    <tr>\n",
              "      <th>6</th>\n",
              "      <td>Comedy Club</td>\n",
              "    </tr>\n",
              "    <tr>\n",
              "      <th>8</th>\n",
              "      <td>Comedy Review</td>\n",
              "    </tr>\n",
              "    <tr>\n",
              "      <th>13</th>\n",
              "      <td>Funny Memes Review</td>\n",
              "    </tr>\n",
              "    <tr>\n",
              "      <th>14</th>\n",
              "      <td>Funny Moments</td>\n",
              "    </tr>\n",
              "    <tr>\n",
              "      <th>15</th>\n",
              "      <td>Hidden Camera Pranks</td>\n",
              "    </tr>\n",
              "    <tr>\n",
              "      <th>18</th>\n",
              "      <td>Parody Music Videos</td>\n",
              "    </tr>\n",
              "    <tr>\n",
              "      <th>19</th>\n",
              "      <td>Prank Wars</td>\n",
              "    </tr>\n",
              "    <tr>\n",
              "      <th>21</th>\n",
              "      <td>Stand-Up Comedy Night</td>\n",
              "    </tr>\n",
              "  </tbody>\n",
              "</table>\n",
              "</div><br><label><b>dtype:</b> object</label>"
            ]
          },
          "metadata": {},
          "execution_count": 34
        }
      ]
    },
    {
      "cell_type": "markdown",
      "source": [
        "***`Task17: Retrieve the Videotile whose Impressions are more than the maximum Shares of all Videotitle.`***"
      ],
      "metadata": {
        "id": "je6e7LdXhlGm"
      }
    },
    {
      "cell_type": "code",
      "source": [
        "cwyd.query('Impressions>Shares.max()')[\"Videotitle\"]"
      ],
      "metadata": {
        "colab": {
          "base_uri": "https://localhost:8080/",
          "height": 805
        },
        "id": "yTFX8f6ahoI4",
        "outputId": "dd3746e5-2adb-4d5d-fd50-12692f41753c"
      },
      "execution_count": 35,
      "outputs": [
        {
          "output_type": "execute_result",
          "data": {
            "text/plain": [
              "0               Best of Pranks\n",
              "1                Classic Roast\n",
              "2             Classic Stand-Up\n",
              "3              Comedy Bloopers\n",
              "4                 Comedy Clips\n",
              "5     Comedy Clips Compilation\n",
              "6                  Comedy Club\n",
              "7              Comedy Marathon\n",
              "8                Comedy Review\n",
              "9                 Comedy Roast\n",
              "10         Comedy Roast Battle\n",
              "11             Comedy Showcase\n",
              "12              Comedy Special\n",
              "13          Funny Memes Review\n",
              "14               Funny Moments\n",
              "15        Hidden Camera Pranks\n",
              "16             Hilarious Skits\n",
              "17           Laughing Marathon\n",
              "18         Parody Music Videos\n",
              "19                  Prank Wars\n",
              "20       Stand-Up Comedy Clips\n",
              "21       Stand-Up Comedy Night\n",
              "22            Stand-Up Special\n",
              "Name: Videotitle, dtype: object"
            ],
            "text/html": [
              "<div>\n",
              "<style scoped>\n",
              "    .dataframe tbody tr th:only-of-type {\n",
              "        vertical-align: middle;\n",
              "    }\n",
              "\n",
              "    .dataframe tbody tr th {\n",
              "        vertical-align: top;\n",
              "    }\n",
              "\n",
              "    .dataframe thead th {\n",
              "        text-align: right;\n",
              "    }\n",
              "</style>\n",
              "<table border=\"1\" class=\"dataframe\">\n",
              "  <thead>\n",
              "    <tr style=\"text-align: right;\">\n",
              "      <th></th>\n",
              "      <th>Videotitle</th>\n",
              "    </tr>\n",
              "  </thead>\n",
              "  <tbody>\n",
              "    <tr>\n",
              "      <th>0</th>\n",
              "      <td>Best of Pranks</td>\n",
              "    </tr>\n",
              "    <tr>\n",
              "      <th>1</th>\n",
              "      <td>Classic Roast</td>\n",
              "    </tr>\n",
              "    <tr>\n",
              "      <th>2</th>\n",
              "      <td>Classic Stand-Up</td>\n",
              "    </tr>\n",
              "    <tr>\n",
              "      <th>3</th>\n",
              "      <td>Comedy Bloopers</td>\n",
              "    </tr>\n",
              "    <tr>\n",
              "      <th>4</th>\n",
              "      <td>Comedy Clips</td>\n",
              "    </tr>\n",
              "    <tr>\n",
              "      <th>5</th>\n",
              "      <td>Comedy Clips Compilation</td>\n",
              "    </tr>\n",
              "    <tr>\n",
              "      <th>6</th>\n",
              "      <td>Comedy Club</td>\n",
              "    </tr>\n",
              "    <tr>\n",
              "      <th>7</th>\n",
              "      <td>Comedy Marathon</td>\n",
              "    </tr>\n",
              "    <tr>\n",
              "      <th>8</th>\n",
              "      <td>Comedy Review</td>\n",
              "    </tr>\n",
              "    <tr>\n",
              "      <th>9</th>\n",
              "      <td>Comedy Roast</td>\n",
              "    </tr>\n",
              "    <tr>\n",
              "      <th>10</th>\n",
              "      <td>Comedy Roast Battle</td>\n",
              "    </tr>\n",
              "    <tr>\n",
              "      <th>11</th>\n",
              "      <td>Comedy Showcase</td>\n",
              "    </tr>\n",
              "    <tr>\n",
              "      <th>12</th>\n",
              "      <td>Comedy Special</td>\n",
              "    </tr>\n",
              "    <tr>\n",
              "      <th>13</th>\n",
              "      <td>Funny Memes Review</td>\n",
              "    </tr>\n",
              "    <tr>\n",
              "      <th>14</th>\n",
              "      <td>Funny Moments</td>\n",
              "    </tr>\n",
              "    <tr>\n",
              "      <th>15</th>\n",
              "      <td>Hidden Camera Pranks</td>\n",
              "    </tr>\n",
              "    <tr>\n",
              "      <th>16</th>\n",
              "      <td>Hilarious Skits</td>\n",
              "    </tr>\n",
              "    <tr>\n",
              "      <th>17</th>\n",
              "      <td>Laughing Marathon</td>\n",
              "    </tr>\n",
              "    <tr>\n",
              "      <th>18</th>\n",
              "      <td>Parody Music Videos</td>\n",
              "    </tr>\n",
              "    <tr>\n",
              "      <th>19</th>\n",
              "      <td>Prank Wars</td>\n",
              "    </tr>\n",
              "    <tr>\n",
              "      <th>20</th>\n",
              "      <td>Stand-Up Comedy Clips</td>\n",
              "    </tr>\n",
              "    <tr>\n",
              "      <th>21</th>\n",
              "      <td>Stand-Up Comedy Night</td>\n",
              "    </tr>\n",
              "    <tr>\n",
              "      <th>22</th>\n",
              "      <td>Stand-Up Special</td>\n",
              "    </tr>\n",
              "  </tbody>\n",
              "</table>\n",
              "</div><br><label><b>dtype:</b> object</label>"
            ]
          },
          "metadata": {},
          "execution_count": 35
        }
      ]
    },
    {
      "cell_type": "markdown",
      "source": [
        "***`Task18: Retrieve the Videotile whose Viewers are more than the sum of Likes of all Videotitle. Show only 5 rows using head() function`***"
      ],
      "metadata": {
        "id": "tGkWC4YpjjuN"
      }
    },
    {
      "cell_type": "code",
      "source": [
        "cwyd.query('Viewers>Likes.sum()')[\"Videotitle\"].head()"
      ],
      "metadata": {
        "colab": {
          "base_uri": "https://localhost:8080/",
          "height": 241
        },
        "id": "HjRlu8rpjnHe",
        "outputId": "f9b4dddc-8c0f-40fb-a642-4f5f7d8eaebf"
      },
      "execution_count": 38,
      "outputs": [
        {
          "output_type": "execute_result",
          "data": {
            "text/plain": [
              "0      Best of Pranks\n",
              "1       Classic Roast\n",
              "2    Classic Stand-Up\n",
              "3     Comedy Bloopers\n",
              "4        Comedy Clips\n",
              "Name: Videotitle, dtype: object"
            ],
            "text/html": [
              "<div>\n",
              "<style scoped>\n",
              "    .dataframe tbody tr th:only-of-type {\n",
              "        vertical-align: middle;\n",
              "    }\n",
              "\n",
              "    .dataframe tbody tr th {\n",
              "        vertical-align: top;\n",
              "    }\n",
              "\n",
              "    .dataframe thead th {\n",
              "        text-align: right;\n",
              "    }\n",
              "</style>\n",
              "<table border=\"1\" class=\"dataframe\">\n",
              "  <thead>\n",
              "    <tr style=\"text-align: right;\">\n",
              "      <th></th>\n",
              "      <th>Videotitle</th>\n",
              "    </tr>\n",
              "  </thead>\n",
              "  <tbody>\n",
              "    <tr>\n",
              "      <th>0</th>\n",
              "      <td>Best of Pranks</td>\n",
              "    </tr>\n",
              "    <tr>\n",
              "      <th>1</th>\n",
              "      <td>Classic Roast</td>\n",
              "    </tr>\n",
              "    <tr>\n",
              "      <th>2</th>\n",
              "      <td>Classic Stand-Up</td>\n",
              "    </tr>\n",
              "    <tr>\n",
              "      <th>3</th>\n",
              "      <td>Comedy Bloopers</td>\n",
              "    </tr>\n",
              "    <tr>\n",
              "      <th>4</th>\n",
              "      <td>Comedy Clips</td>\n",
              "    </tr>\n",
              "  </tbody>\n",
              "</table>\n",
              "</div><br><label><b>dtype:</b> object</label>"
            ]
          },
          "metadata": {},
          "execution_count": 38
        }
      ]
    }
  ]
}